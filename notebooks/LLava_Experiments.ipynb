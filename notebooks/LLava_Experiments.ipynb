{
 "cells": [
  {
   "cell_type": "markdown",
   "metadata": {},
   "source": [
    "The notebook contains the code for downloading, installation and inferencing LLava model."
   ]
  },
  {
   "cell_type": "markdown",
   "metadata": {},
   "source": [
    "# Imports and Installations"
   ]
  },
  {
   "cell_type": "code",
   "execution_count": null,
   "metadata": {},
   "outputs": [],
   "source": [
    "import os\n",
    "import random\n",
    "import numpy as np\n",
    "import pandas as pd\n",
    "from IPython.display import clear_output\n",
    "from time import time"
   ]
  },
  {
   "cell_type": "code",
   "execution_count": null,
   "metadata": {},
   "outputs": [],
   "source": [
    "!git clone https://github.com/PKU-YuanGroup/Video-LLaVA"
   ]
  },
  {
   "cell_type": "code",
   "execution_count": null,
   "metadata": {},
   "outputs": [],
   "source": [
    "cd Video-LLaVA"
   ]
  },
  {
   "cell_type": "code",
   "execution_count": null,
   "metadata": {},
   "outputs": [],
   "source": [
    "!pip install --upgrade pip -q\n",
    "!pip install -e . -q\n",
    "!pip install -e \".[train]\" -q"
   ]
  },
  {
   "cell_type": "code",
   "execution_count": null,
   "metadata": {},
   "outputs": [],
   "source": [
    "import numpy as np\n",
    "import pandas as pd\n",
    "\n",
    "import torch\n",
    "from transformers import pipeline\n",
    "\n",
    "from videollava.constants import IMAGE_TOKEN_INDEX, DEFAULT_IMAGE_TOKEN\n",
    "from videollava.conversation import conv_templates, SeparatorStyle\n",
    "from videollava.model.builder import load_pretrained_model\n",
    "from videollava.utils import disable_torch_init\n",
    "from videollava.mm_utils import tokenizer_image_token, get_model_name_from_path, KeywordsStoppingCriteria\n",
    "\n",
    "disable_torch_init() # запускать только один раз"
   ]
  },
  {
   "cell_type": "markdown",
   "metadata": {},
   "source": [
    "# Inference"
   ]
  },
  {
   "cell_type": "code",
   "execution_count": null,
   "metadata": {},
   "outputs": [],
   "source": [
    "DATA_PATH = '' # Your data Path here"
   ]
  },
  {
   "cell_type": "code",
   "execution_count": null,
   "metadata": {},
   "outputs": [],
   "source": [
    "model_path = 'LanguageBind/Video-LLaVA-7B'\n",
    "cache_dir = 'cache_dir'\n",
    "device = 'cuda'\n",
    "\n",
    "load_4bit, load_8bit = True, False\n",
    "model_name = get_model_name_from_path(model_path)\n",
    "tokenizer, model, processor, _ = load_pretrained_model(model_path, \n",
    "                                                       None, \n",
    "                                                       model_name, \n",
    "                                                       load_8bit, \n",
    "                                                       load_4bit, \n",
    "                                                       device=device, \n",
    "                                                       cache_dir=cache_dir)\n",
    "clear_output()"
   ]
  },
  {
   "cell_type": "code",
   "execution_count": null,
   "metadata": {},
   "outputs": [],
   "source": [
    "classes = [\n",
    "    'Промо/Нет/Нет',\n",
    "    'Имидж/Нет/Нет',\n",
    "    'Имидж/Нет/Да',\n",
    "    'Промо/Доставка/Нет',\n",
    "    'Промо/Нет/Да',\n",
    "    'Имидж/Доставка/Нет',\n",
    "    'промо/Нет/Нет',\n",
    "    'Имидж',\n",
    "    'Кредитование',\n",
    "    'Range',\n",
    "    'Дебетовые карты',\n",
    "    'Услуги бизнесу',\n",
    "    'Кредитные карты',\n",
    "    'Инвестиционные продукты',\n",
    "    'Экосистемные сервисы',\n",
    "    'Музыка',\n",
    "    'Колонки+Голосовой помощник',\n",
    "    'Клипы',\n",
    "    'Соц сети'\n",
    "    ]\n",
    "d = {i:cls for i, cls in enumerate(classes)}"
   ]
  },
  {
   "cell_type": "code",
   "execution_count": null,
   "metadata": {},
   "outputs": [],
   "source": [
    "all_files = []\n",
    "base_path = 'YOUR_PATH_HERE'\n",
    "\n",
    "df_resampled = pd.read_csv('/kaggle/input/hack-chunk-desc/resampled_data (1).csv')\n",
    "df_new = pd.DataFrame({\n",
    "    'Advertisement ID': df_resampled['Advertisement ID'],\n",
    "    'text': df_resampled['text'],\n",
    "     'label': df_resampled['Segment_num']})\n",
    "df_new['no_sound'] = df_new['text'].str.contains('субтитры|динамичная|позитивная', case=False, na=False)\n",
    "\n",
    "for i in ('0', '1', '2', '3', '4', '5', '6', '7', '8', '9', '10-stranger', '11', '12-stranger', '13', '14', '15', '16', '17'):\n",
    "    folder_path = f\"{base_path}{i}\"\n",
    "    for root, dirs, files in os.walk(folder_path):\n",
    "        for file in files:\n",
    "            full_path = os.path.join(root, file)\n",
    "            all_files.append(full_path)\n",
    "\n",
    "len(all_files) == len(df_new)\n",
    "\n",
    "id_to_path = {}\n",
    "for file_path in all_files:\n",
    "    file_id = int(file_path.split('/')[-1].split('.')[0])\n",
    "    id_to_path[file_id] = file_path\n",
    "\n",
    "def get_path(ad_id):\n",
    "    return id_to_path.get(ad_id, None)\n",
    "\n",
    "df_new['path'] = df_new['Advertisement ID'].apply(get_path)"
   ]
  },
  {
   "cell_type": "code",
   "execution_count": null,
   "metadata": {},
   "outputs": [],
   "source": [
    "def getPrediction(video, inp):\n",
    "    \n",
    "    video_processor = processor['video']\n",
    "    conv_mode = \"llava_v1\"\n",
    "    conv = conv_templates[conv_mode].copy()\n",
    "    roles = conv.roles\n",
    "\n",
    "    video_tensor = video_processor(video, return_tensors='pt')['pixel_values']\n",
    "    if type(video_tensor) is list:\n",
    "        tensor = [video.to(model.device, dtype=torch.float16) for video in video_tensor]\n",
    "    else:\n",
    "        tensor = video_tensor.to(model.device, dtype=torch.float16)\n",
    "        \n",
    "    inp = ' '.join([DEFAULT_IMAGE_TOKEN] * model.get_video_tower().config.num_frames) + '\\n' + inp\n",
    "\n",
    "    conv.append_message(conv.roles[0], inp)\n",
    "    conv.append_message(conv.roles[1], None)\n",
    "\n",
    "    prompt = conv.get_prompt()\n",
    "    input_ids = tokenizer_image_token(prompt, tokenizer, IMAGE_TOKEN_INDEX, return_tensors='pt').unsqueeze(0).cuda()\n",
    "\n",
    "    stop_str = conv.sep if conv.sep_style != SeparatorStyle.TWO else conv.sep2\n",
    "    keywords = [stop_str]\n",
    "    stopping_criteria = KeywordsStoppingCriteria(keywords, tokenizer, input_ids)\n",
    "\n",
    "    with torch.inference_mode():\n",
    "        output_ids = model.generate(\n",
    "            input_ids,\n",
    "            images=tensor,\n",
    "            do_sample=True,\n",
    "            temperature=0.3,\n",
    "            max_new_tokens=1000,\n",
    "            use_cache=True,\n",
    "            stopping_criteria=[stopping_criteria])\n",
    "\n",
    "    outputs = tokenizer.decode(output_ids[0, input_ids.shape[1]:]).strip()\n",
    "\n",
    "    return outputs"
   ]
  },
  {
   "cell_type": "code",
   "execution_count": null,
   "metadata": {},
   "outputs": [],
   "source": [
    "#Saved promts to get data for the further possible classification\n",
    "\n",
    "inp_saved1 = \"Describe the AD. What's the marketing purpose of this ad? Avoid general words\"\n",
    "inp_saved2 = \"Your role is an advertisment specialist. Make the merketing analysis and describe the AD. What's the marketing purpose of this ad? Avoid general words\"\n",
    "inp_saved3 = f\"What is the product in the from the following {classes}\"\n",
    "inp_saved4 = f\"Describe the video. What do you think it advertises?\""
   ]
  },
  {
   "cell_type": "code",
   "execution_count": null,
   "metadata": {},
   "outputs": [],
   "source": [
    "promt = ... \n",
    "\n",
    "for i in range(5):\n",
    "    start = time.time()\n",
    "    sample = df_new[df_new.no_sound == True].sample()\n",
    "    video = sample.path.values[0]\n",
    "    label = sample.label\n",
    "    print(getPrediction(video, promt))\n",
    "    end = time.time()\n",
    "    print(d[label.values[0]])\n",
    "    print(end - start)\n",
    "    print('*'*50)\n"
   ]
  },
  {
   "cell_type": "code",
   "execution_count": null,
   "metadata": {},
   "outputs": [],
   "source": [
    "rus_to_eng_dict = {\n",
    "    0: 'Promotion',\n",
    "    1: 'Имидж/Нет/Нет',\n",
    "    2: 'Имидж/Нет/Да',\n",
    "    3: 'Промо/Доставка/Нет',\n",
    "    4: 'Промо/Нет/Да',\n",
    "    5: 'Имидж/Доставка/Нет',\n",
    "    7: 'Company Image',\n",
    "    8: 'Lending',\n",
    "    9: 'Range',\n",
    "    10: 'Debit Cards',\n",
    "    11: 'Business services',\n",
    "    12: 'Credit Cards',\n",
    "    13: 'Investment products',\n",
    "    14: 'Ecosystem services',\n",
    "    15: 'Music apps',\n",
    "    16: 'Speakers+Voice Assistant',\n",
    "    17: 'Short video app',\n",
    "    18: 'Social Networks'\n",
    "}"
   ]
  },
  {
   "cell_type": "markdown",
   "metadata": {},
   "source": [
    "# Creative Advisor"
   ]
  },
  {
   "cell_type": "code",
   "execution_count": null,
   "metadata": {},
   "outputs": [],
   "source": [
    "for i in range(5):\n",
    "    start = time.time()\n",
    "    sample = df_new[df_new.no_sound == True].sample()\n",
    "    video = sample.path.values[0]\n",
    "    label = d[sample.label.values[0]]\n",
    "    promt = f\"What is attractive in this ad? Can you create a motto for such a product so I can use it.\"\n",
    "    print(getPrediction(video, promt))\n",
    "    end = time.time()\n",
    "    print(label)\n",
    "    print(end - start)\n",
    "    print('*'*50)"
   ]
  },
  {
   "cell_type": "code",
   "execution_count": null,
   "metadata": {},
   "outputs": [],
   "source": [
    "for i in range(5):\n",
    "    start = time.time()\n",
    "    sample = df_new[df_new.no_sound == True].sample()\n",
    "    video = sample.path.values[0]\n",
    "    label = rus_to_eng_dict[sample.label.values[0]]\n",
    "    promt = f\"The ad purpose is to promote: {label}. What is attractive in this ad? Can you create a motto for such a product so I can use it for mine.\"\n",
    "    print(getPrediction(video, promt))\n",
    "    end = time.time()\n",
    "    print(label)\n",
    "    print(end - start)\n",
    "    print('*'*50)"
   ]
  }
 ],
 "metadata": {
  "language_info": {
   "name": "python"
  }
 },
 "nbformat": 4,
 "nbformat_minor": 2
}
